{
 "cells": [
  {
   "cell_type": "code",
   "execution_count": 1,
   "id": "4a3c8c7e",
   "metadata": {},
   "outputs": [
    {
     "name": "stdout",
     "output_type": "stream",
     "text": [
      "[1 2 3 4 5]\n"
     ]
    }
   ],
   "source": [
    "import numpy as np\n",
    "l = [1,2,3,4,5]\n",
    "arr = np.array(l)\n",
    "print(arr) "
   ]
  },
  {
   "cell_type": "code",
   "execution_count": 2,
   "id": "3d05406f",
   "metadata": {},
   "outputs": [
    {
     "data": {
      "text/plain": [
       "array([10.,  9.,  8.,  7.,  6.,  5.,  4.,  3.,  2.])"
      ]
     },
     "execution_count": 2,
     "metadata": {},
     "output_type": "execute_result"
    }
   ],
   "source": [
    "ar = np.arange(10,1,-1,\"float\") \n",
    "ar"
   ]
  },
  {
   "cell_type": "code",
   "execution_count": 3,
   "id": "907a7ca7",
   "metadata": {},
   "outputs": [
    {
     "data": {
      "text/plain": [
       "array([0, 1, 2, 3, 4, 5, 6, 7, 8, 9])"
      ]
     },
     "execution_count": 3,
     "metadata": {},
     "output_type": "execute_result"
    }
   ],
   "source": [
    "ar1 = np.arange(10) \n",
    "ar1"
   ]
  },
  {
   "cell_type": "code",
   "execution_count": 4,
   "id": "ac3b9447",
   "metadata": {},
   "outputs": [
    {
     "data": {
      "text/plain": [
       "array([0., 0., 0., 0.])"
      ]
     },
     "execution_count": 4,
     "metadata": {},
     "output_type": "execute_result"
    }
   ],
   "source": [
    "np.zeros(4)"
   ]
  },
  {
   "cell_type": "code",
   "execution_count": 5,
   "id": "35c04cae",
   "metadata": {},
   "outputs": [
    {
     "data": {
      "text/plain": [
       "array([[0, 0, 0, 0, 0],\n",
       "       [0, 0, 0, 0, 0],\n",
       "       [0, 0, 0, 0, 0],\n",
       "       [0, 0, 0, 0, 0],\n",
       "       [0, 0, 0, 0, 0],\n",
       "       [0, 0, 0, 0, 0],\n",
       "       [0, 0, 0, 0, 0],\n",
       "       [0, 0, 0, 0, 0]])"
      ]
     },
     "execution_count": 5,
     "metadata": {},
     "output_type": "execute_result"
    }
   ],
   "source": [
    "np.zeros([8,5],dtype = \"int\")"
   ]
  },
  {
   "cell_type": "code",
   "execution_count": 6,
   "id": "4fae49e5",
   "metadata": {},
   "outputs": [
    {
     "data": {
      "text/plain": [
       "array([[[0, 0],\n",
       "        [0, 0]],\n",
       "\n",
       "       [[0, 0],\n",
       "        [0, 0]]])"
      ]
     },
     "execution_count": 6,
     "metadata": {},
     "output_type": "execute_result"
    }
   ],
   "source": [
    "np.zeros([2,2,2,],dtype = \"int\")"
   ]
  },
  {
   "cell_type": "code",
   "execution_count": 7,
   "id": "11e8d3ee",
   "metadata": {},
   "outputs": [
    {
     "data": {
      "text/plain": [
       "array([['1', '1', '1', '1', '1', '1', '1', '1', '1'],\n",
       "       ['1', '1', '1', '1', '1', '1', '1', '1', '1'],\n",
       "       ['1', '1', '1', '1', '1', '1', '1', '1', '1'],\n",
       "       ['1', '1', '1', '1', '1', '1', '1', '1', '1'],\n",
       "       ['1', '1', '1', '1', '1', '1', '1', '1', '1']], dtype='<U1')"
      ]
     },
     "execution_count": 7,
     "metadata": {},
     "output_type": "execute_result"
    }
   ],
   "source": [
    "np.ones([5,9],\"str\")"
   ]
  },
  {
   "cell_type": "code",
   "execution_count": 8,
   "id": "bd652341",
   "metadata": {},
   "outputs": [
    {
     "name": "stdout",
     "output_type": "stream",
     "text": [
      "[1869182057  170816366  538976288  538976266  539897376 1936876918]\n"
     ]
    },
    {
     "data": {
      "text/plain": [
       "numpy.int32"
      ]
     },
     "execution_count": 8,
     "metadata": {},
     "output_type": "execute_result"
    }
   ],
   "source": [
    "b = np.empty(6,dtype = \"int\")\n",
    "print(b)\n",
    "type(b[5])\n",
    "# These random values were already in the memory before initializing the array"
   ]
  },
  {
   "cell_type": "code",
   "execution_count": 9,
   "id": "c14bec62",
   "metadata": {},
   "outputs": [
    {
     "data": {
      "text/plain": [
       "array([ 1.,  2.,  3.,  4.,  5.,  6.,  7.,  8.,  9., 10., 11., 12., 13.,\n",
       "       14., 15., 16., 17., 18., 19., 20., 21., 22., 23., 24., 25., 26.,\n",
       "       27., 28., 29., 30., 31., 32., 33., 34., 35., 36., 37., 38., 39.,\n",
       "       40., 41., 42., 43., 44., 45., 46., 47., 48., 49., 50.])"
      ]
     },
     "execution_count": 9,
     "metadata": {},
     "output_type": "execute_result"
    }
   ],
   "source": [
    "np.linspace(1,50)\n",
    "# By defalult its is 50"
   ]
  },
  {
   "cell_type": "code",
   "execution_count": 10,
   "id": "0202d257",
   "metadata": {},
   "outputs": [
    {
     "data": {
      "text/plain": [
       "(array([ 1.  ,  5.75, 10.5 , 15.25, 20.  ]), 4.75)"
      ]
     },
     "execution_count": 10,
     "metadata": {},
     "output_type": "execute_result"
    }
   ],
   "source": [
    "np.linspace(1,20,5,endpoint = True,retstep = True)"
   ]
  },
  {
   "cell_type": "code",
   "execution_count": 11,
   "id": "1881986d",
   "metadata": {},
   "outputs": [
    {
     "data": {
      "text/plain": [
       "(array([ 1.  ,  5.75, 10.5 , 15.25]), 4.75)"
      ]
     },
     "execution_count": 11,
     "metadata": {},
     "output_type": "execute_result"
    }
   ],
   "source": [
    "np.linspace(1,20,4,endpoint = False,retstep = True)"
   ]
  },
  {
   "cell_type": "code",
   "execution_count": 12,
   "id": "9e1ab650",
   "metadata": {},
   "outputs": [
    {
     "data": {
      "text/plain": [
       "array([[1., 0., 0., 0., 0.],\n",
       "       [0., 1., 0., 0., 0.],\n",
       "       [0., 0., 1., 0., 0.],\n",
       "       [0., 0., 0., 1., 0.],\n",
       "       [0., 0., 0., 0., 1.]])"
      ]
     },
     "execution_count": 12,
     "metadata": {},
     "output_type": "execute_result"
    }
   ],
   "source": [
    "np.eye(5)"
   ]
  },
  {
   "cell_type": "code",
   "execution_count": 13,
   "id": "7717f19e",
   "metadata": {},
   "outputs": [
    {
     "data": {
      "text/plain": [
       "array([[1., 0., 0., 0., 0.],\n",
       "       [0., 1., 0., 0., 0.],\n",
       "       [0., 0., 1., 0., 0.],\n",
       "       [0., 0., 0., 1., 0.]])"
      ]
     },
     "execution_count": 13,
     "metadata": {},
     "output_type": "execute_result"
    }
   ],
   "source": [
    "np.eye(4,5)"
   ]
  },
  {
   "cell_type": "code",
   "execution_count": 14,
   "id": "dda8e632",
   "metadata": {},
   "outputs": [
    {
     "data": {
      "text/plain": [
       "array([[0., 0., 0., 0., 0.],\n",
       "       [1., 0., 0., 0., 0.],\n",
       "       [0., 1., 0., 0., 0.],\n",
       "       [0., 0., 1., 0., 0.]])"
      ]
     },
     "execution_count": 14,
     "metadata": {},
     "output_type": "execute_result"
    }
   ],
   "source": [
    "np.eye(4,5,-1)"
   ]
  },
  {
   "cell_type": "code",
   "execution_count": 15,
   "id": "87c3c98a",
   "metadata": {},
   "outputs": [
    {
     "data": {
      "text/plain": [
       "array([[0., 1., 0., 0., 0.],\n",
       "       [0., 0., 1., 0., 0.],\n",
       "       [0., 0., 0., 1., 0.],\n",
       "       [0., 0., 0., 0., 1.]])"
      ]
     },
     "execution_count": 15,
     "metadata": {},
     "output_type": "execute_result"
    }
   ],
   "source": [
    "np.eye(4,5,1)"
   ]
  },
  {
   "cell_type": "code",
   "execution_count": 16,
   "id": "05030c1b",
   "metadata": {},
   "outputs": [
    {
     "data": {
      "text/plain": [
       "array([[1., 0., 0., 0., 0.],\n",
       "       [0., 1., 0., 0., 0.],\n",
       "       [0., 0., 1., 0., 0.],\n",
       "       [0., 0., 0., 1., 0.],\n",
       "       [0., 0., 0., 0., 1.]])"
      ]
     },
     "execution_count": 16,
     "metadata": {},
     "output_type": "execute_result"
    }
   ],
   "source": [
    "np.identity(5)"
   ]
  },
  {
   "cell_type": "code",
   "execution_count": 17,
   "id": "992d2cae",
   "metadata": {},
   "outputs": [
    {
     "data": {
      "text/plain": [
       "array([[1, 0, 0, 0, 0],\n",
       "       [0, 1, 0, 0, 0],\n",
       "       [0, 0, 1, 0, 0],\n",
       "       [0, 0, 0, 1, 0],\n",
       "       [0, 0, 0, 0, 1]])"
      ]
     },
     "execution_count": 17,
     "metadata": {},
     "output_type": "execute_result"
    }
   ],
   "source": [
    "np.identity(5,dtype = \"int\")"
   ]
  },
  {
   "cell_type": "code",
   "execution_count": 18,
   "id": "56997814",
   "metadata": {},
   "outputs": [
    {
     "data": {
      "text/plain": [
       "array([0.67751341, 0.26527666, 0.24390705, 0.76324403, 0.26430784,\n",
       "       0.73119426, 0.50295642, 0.8381549 , 0.92018452, 0.70685116])"
      ]
     },
     "execution_count": 18,
     "metadata": {},
     "output_type": "execute_result"
    }
   ],
   "source": [
    "np.random.rand(10)"
   ]
  },
  {
   "cell_type": "code",
   "execution_count": 19,
   "id": "c8ca6773",
   "metadata": {},
   "outputs": [
    {
     "data": {
      "text/plain": [
       "array([ 1.85291921, -0.41117196,  1.59166837, -0.62657529, -1.72599649,\n",
       "        0.73955758,  0.09592379,  0.7053964 , -0.96570947,  0.65983371])"
      ]
     },
     "execution_count": 19,
     "metadata": {},
     "output_type": "execute_result"
    }
   ],
   "source": [
    "np.random.randn(10)"
   ]
  },
  {
   "cell_type": "code",
   "execution_count": 20,
   "id": "51be96f9",
   "metadata": {},
   "outputs": [
    {
     "data": {
      "image/png": "[encoded data removed]",
      "text/plain": [
       "<Figure size 432x288 with 1 Axes>"
      ]
     },
     "metadata": {
      "needs_background": "light"
     },
     "output_type": "display_data"
    },
    {
     "data": {
      "image/png": "[encoded data removed]",
      "text/plain": [
       "<Figure size 432x288 with 1 Axes>"
      ]
     },
     "metadata": {
      "needs_background": "light"
     },
     "output_type": "display_data"
    }
   ],
   "source": [
    "import numpy as np\n",
    "import matplotlib.pyplot as plt\n",
    "\n",
    "sample_size = 1000\n",
    "uniform = np.random.rand(sample_size)\n",
    "normal = np.random.randn(sample_size)\n",
    "\n",
    "pdf, bins, patches = plt.hist(uniform, bins=20, range=(0, 1), density=True)\n",
    "plt.title('rand: uniform')\n",
    "plt.show()\n",
    "\n",
    "pdf, bins, patches = plt.hist(normal, bins=20, range=(-4, 4), density=True)\n",
    "plt.title('randn: normal')\n",
    "plt.show()"
   ]
  },
  {
   "cell_type": "code",
   "execution_count": 21,
   "id": "9550aeb7",
   "metadata": {},
   "outputs": [
    {
     "data": {
      "text/plain": [
       "1"
      ]
     },
     "execution_count": 21,
     "metadata": {},
     "output_type": "execute_result"
    }
   ],
   "source": [
    "np.random.randint(5)"
   ]
  },
  {
   "cell_type": "code",
   "execution_count": 22,
   "id": "c82ad0ff",
   "metadata": {},
   "outputs": [
    {
     "data": {
      "text/plain": [
       "8"
      ]
     },
     "execution_count": 22,
     "metadata": {},
     "output_type": "execute_result"
    }
   ],
   "source": [
    "np.random.randint(5,10)"
   ]
  },
  {
   "cell_type": "code",
   "execution_count": 23,
   "id": "978852d5",
   "metadata": {},
   "outputs": [
    {
     "data": {
      "text/plain": [
       "array([7, 8, 6, 6, 5, 6])"
      ]
     },
     "execution_count": 23,
     "metadata": {},
     "output_type": "execute_result"
    }
   ],
   "source": [
    "np.random.randint(5,10,6)"
   ]
  },
  {
   "cell_type": "code",
   "execution_count": 24,
   "id": "bb64dee8",
   "metadata": {},
   "outputs": [
    {
     "data": {
      "text/plain": [
       "array([[7, 7, 5, 6],\n",
       "       [6, 7, 8, 9],\n",
       "       [9, 8, 5, 9]])"
      ]
     },
     "execution_count": 24,
     "metadata": {},
     "output_type": "execute_result"
    }
   ],
   "source": [
    "np.random.randint(5,10,[3,4])"
   ]
  },
  {
   "cell_type": "code",
   "execution_count": 25,
   "id": "56c12a85",
   "metadata": {},
   "outputs": [
    {
     "data": {
      "text/plain": [
       "0.1631277624774562"
      ]
     },
     "execution_count": 25,
     "metadata": {},
     "output_type": "execute_result"
    }
   ],
   "source": [
    "np.random.ranf()\n",
    "#returns numbers between 0 and 1"
   ]
  },
  {
   "cell_type": "code",
   "execution_count": 26,
   "id": "58257ff0",
   "metadata": {},
   "outputs": [
    {
     "data": {
      "text/plain": [
       "array([0.57347986, 0.74242038, 0.80549663])"
      ]
     },
     "execution_count": 26,
     "metadata": {},
     "output_type": "execute_result"
    }
   ],
   "source": [
    "np.random.ranf(3)"
   ]
  },
  {
   "cell_type": "code",
   "execution_count": 27,
   "id": "bc99a556",
   "metadata": {},
   "outputs": [
    {
     "data": {
      "text/plain": [
       "array([[0.04983774, 0.12434775, 0.01895409, 0.95888337],\n",
       "       [0.20918227, 0.52994071, 0.10342822, 0.24288288],\n",
       "       [0.85270862, 0.70912096, 0.83666776, 0.47256116]])"
      ]
     },
     "execution_count": 27,
     "metadata": {},
     "output_type": "execute_result"
    }
   ],
   "source": [
    "np.random.ranf([3,4])"
   ]
  },
  {
   "cell_type": "code",
   "execution_count": 28,
   "id": "0e6c8b9a",
   "metadata": {},
   "outputs": [
    {
     "data": {
      "text/plain": [
       "3.524249289532944"
      ]
     },
     "execution_count": 28,
     "metadata": {},
     "output_type": "execute_result"
    }
   ],
   "source": [
    "# Return a random number between, and included\n",
    "np.random.uniform(3,4)"
   ]
  },
  {
   "cell_type": "code",
   "execution_count": 29,
   "id": "2cbc4380",
   "metadata": {},
   "outputs": [
    {
     "name": "stdout",
     "output_type": "stream",
     "text": [
      "[0 1 2 3 4]\n",
      "1\n",
      "(5,)\n"
     ]
    },
    {
     "data": {
      "text/plain": [
       "5"
      ]
     },
     "execution_count": 29,
     "metadata": {},
     "output_type": "execute_result"
    }
   ],
   "source": [
    "a = np.arange(5)\n",
    "print(a)\n",
    "print(a.ndim)\n",
    "print(a.shape)\n",
    "a.size"
   ]
  },
  {
   "cell_type": "code",
   "execution_count": 30,
   "id": "83658573",
   "metadata": {},
   "outputs": [
    {
     "name": "stdout",
     "output_type": "stream",
     "text": [
      "[[[1.31091488e-311 1.01283457e-321 0.00000000e+000 0.00000000e+000\n",
      "   1.30927140e-311]\n",
      "  [1.16097020e-028 1.26087994e-076 2.54867593e-028 3.30884088e-033\n",
      "   1.04917183e-153]\n",
      "  [5.23081515e-143 3.26468491e-032 2.58144379e-057 6.18487473e+169\n",
      "   1.11690387e+165]]\n",
      "\n",
      " [[1.70098498e+256 5.49109388e-143 1.06396443e+224 3.96041428e+246\n",
      "   1.16318408e-028]\n",
      "  [4.98243160e-037 3.92800309e-033 1.22105372e+165 1.45116716e+165\n",
      "   1.01848862e+248]\n",
      "  [1.16096643e-028 9.80058441e+252 7.50189709e+247 1.14484251e+243\n",
      "   2.59903827e-144]]]\n",
      "3\n",
      "(2, 3, 5)\n"
     ]
    },
    {
     "data": {
      "text/plain": [
       "30"
      ]
     },
     "execution_count": 30,
     "metadata": {},
     "output_type": "execute_result"
    }
   ],
   "source": [
    "a = np.empty([2,3,5])\n",
    "print(a)\n",
    "print(a.ndim)\n",
    "print(a.shape)\n",
    "a.size"
   ]
  },
  {
   "cell_type": "code",
   "execution_count": 31,
   "id": "82e89720",
   "metadata": {},
   "outputs": [
    {
     "name": "stdout",
     "output_type": "stream",
     "text": [
      "[[0.04983774 0.12434775 0.01895409]\n",
      " [0.95888337 0.20918227 0.52994071]\n",
      " [0.10342822 0.24288288 0.85270862]\n",
      " [0.70912096 0.83666776 0.47256116]]\n"
     ]
    },
    {
     "data": {
      "text/plain": [
       "array([[0.12434775, 0.01895409],\n",
       "       [0.20918227, 0.52994071]])"
      ]
     },
     "execution_count": 31,
     "metadata": {},
     "output_type": "execute_result"
    }
   ],
   "source": [
    "s = np.empty([4,3])\n",
    "print(s)\n",
    "s[0:2,1:]"
   ]
  },
  {
   "cell_type": "code",
   "execution_count": 32,
   "id": "6415f94f",
   "metadata": {},
   "outputs": [
    {
     "name": "stdout",
     "output_type": "stream",
     "text": [
      "[[  858993459  1077687091  -189647904  1078634128   669345556]\n",
      " [ 1079220676  -713968584  1079631935 -1048641362  1080038237]\n",
      " [-1740298433  1080243867  1863011793  1080449497  1171354722]\n",
      " [ 1080655127   479697652  1080860757  -515396076  1080964218]]\n"
     ]
    },
    {
     "data": {
      "text/plain": [
       "array([[  858993459,  -189647904,   669345556],\n",
       "       [ 1079220676,  1079631935,  1080038237],\n",
       "       [-1740298433,  1863011793,  1171354722],\n",
       "       [ 1080655127,  1080860757,  1080964218]])"
      ]
     },
     "execution_count": 32,
     "metadata": {},
     "output_type": "execute_result"
    }
   ],
   "source": [
    "f = np.empty([4,5],dtype =\"int\")\n",
    "print(f)\n",
    "f[::,::2]\n",
    "# f[start:end:step,start:end:step]"
   ]
  },
  {
   "cell_type": "code",
   "execution_count": 33,
   "id": "67a78316",
   "metadata": {},
   "outputs": [
    {
     "name": "stdout",
     "output_type": "stream",
     "text": [
      "[ 0  3  6  9 12]\n",
      "[-1  0  1  2  3]\n",
      "[3 4 5 6 7]\n",
      "[0.         0.33333333 0.66666667 1.         1.33333333]\n",
      "[1, 2, 3, 4, 1, 2, 3, 4, 1, 2, 3, 4]\n"
     ]
    }
   ],
   "source": [
    "l = [1,2,3,4] # list\n",
    "npa = np.arange(5) \n",
    "print(npa*3)\n",
    "print(npa-1)\n",
    "print(npa+3)\n",
    "print(npa/3)\n",
    "print(l*3)\n",
    "# print(l+2) error\n",
    "# print(l+2) error\n",
    "# print(l+2) error"
   ]
  },
  {
   "cell_type": "code",
   "execution_count": 34,
   "id": "9d96d4e2",
   "metadata": {},
   "outputs": [
    {
     "data": {
      "text/plain": [
       "[12, 3, 5, 44, 3, 5]"
      ]
     },
     "execution_count": 34,
     "metadata": {},
     "output_type": "execute_result"
    }
   ],
   "source": [
    "# List addition\n",
    "l1 = [12,3,5]\n",
    "l2 = [44,3,5]\n",
    "l1+l2"
   ]
  },
  {
   "cell_type": "code",
   "execution_count": 35,
   "id": "bac20515",
   "metadata": {},
   "outputs": [
    {
     "data": {
      "text/plain": [
       "array([ 7,  9, 11, 14])"
      ]
     },
     "execution_count": 35,
     "metadata": {},
     "output_type": "execute_result"
    }
   ],
   "source": [
    "# array addition\n",
    "a = np.array([1,2,3,5])\n",
    "b = np.array([6,7,8,9])\n",
    "a+b"
   ]
  },
  {
   "cell_type": "code",
   "execution_count": 36,
   "id": "a9a0bde4",
   "metadata": {},
   "outputs": [
    {
     "data": {
      "text/plain": [
       "array([[1869182057,  170816366,  538976288],\n",
       "       [ 538976266,  539897376, 1936876918]])"
      ]
     },
     "execution_count": 36,
     "metadata": {},
     "output_type": "execute_result"
    }
   ],
   "source": [
    "# matrix addition\n",
    "np.empty([2,3],dtype = \"int\")"
   ]
  },
  {
   "cell_type": "code",
   "execution_count": null,
   "id": "3e3738f5",
   "metadata": {},
   "outputs": [],
   "source": []
  },
  {
   "cell_type": "code",
   "execution_count": 37,
   "id": "5ebacf9b",
   "metadata": {},
   "outputs": [
    {
     "name": "stdout",
     "output_type": "stream",
     "text": [
      "[[0 1]\n",
      " [2 3]]\n",
      "[[4 5]\n",
      " [6 7]]\n"
     ]
    },
    {
     "data": {
      "text/plain": [
       "array([[ 4,  6],\n",
       "       [ 8, 10]])"
      ]
     },
     "execution_count": 37,
     "metadata": {},
     "output_type": "execute_result"
    }
   ],
   "source": [
    "# matrix addition\n",
    "a = np.arange(4).reshape(2,2)\n",
    "b = np.arange(4,8).reshape(2,2)\n",
    "print(a)\n",
    "print(b)\n",
    "a + b"
   ]
  },
  {
   "cell_type": "code",
   "execution_count": 49,
   "id": "d40cf736",
   "metadata": {},
   "outputs": [
    {
     "name": "stdout",
     "output_type": "stream",
     "text": [
      "[0 1 2 3 4 5 6 7 8 9]\n",
      "[[0 1]\n",
      " [2 3]\n",
      " [4 5]\n",
      " [6 7]\n",
      " [8 9]]\n",
      "[[0 5]\n",
      " [1 6]\n",
      " [2 7]\n",
      " [3 8]\n",
      " [4 9]]\n"
     ]
    },
    {
     "data": {
      "text/plain": [
       "array([[0, 1],\n",
       "       [2, 3],\n",
       "       [4, 5],\n",
       "       [6, 7],\n",
       "       [8, 9]])"
      ]
     },
     "execution_count": 49,
     "metadata": {},
     "output_type": "execute_result"
    }
   ],
   "source": [
    "#  size of the array must be equal to the total number of elements\n",
    "A = np.arange(10)\n",
    "print(A)\n",
    "# Row wise\n",
    "B = np.reshape(A,(5,2))\n",
    "print(B)\n",
    "# Column wise\n",
    "C = np.reshape(A,(5,2),order = \"F\")\n",
    "print(C)\n",
    "# OR\n",
    "D = A.reshape(5,2)\n",
    "D\n"
   ]
  },
  {
   "cell_type": "code",
   "execution_count": 58,
   "id": "1bd8fcc2",
   "metadata": {},
   "outputs": [
    {
     "name": "stdout",
     "output_type": "stream",
     "text": [
      "[0 1 2 3 4 5 6 7 8 9]\n",
      "[[0 1]\n",
      " [2 3]\n",
      " [4 5]]\n"
     ]
    }
   ],
   "source": [
    "#  size of the array can be greater or lesser or equal to the total number of elements\n",
    "A = np.arange(10)\n",
    "print(A)\n",
    "B = np.resize(A,(3,2))\n",
    "print(B)\n",
    "# OR\n",
    "D = A.resize(5,2)\n",
    "D"
   ]
  },
  {
   "cell_type": "code",
   "execution_count": 38,
   "id": "2ae30a33",
   "metadata": {},
   "outputs": [
    {
     "name": "stdout",
     "output_type": "stream",
     "text": [
      "a [[0 1]\n",
      " [2 3]]\n",
      "b [[4 5]\n",
      " [6 7]]\n"
     ]
    },
    {
     "data": {
      "text/plain": [
       "array([[ 0,  5],\n",
       "       [12, 21]])"
      ]
     },
     "execution_count": 38,
     "metadata": {},
     "output_type": "execute_result"
    }
   ],
   "source": [
    "# matrix multiplication (a[0]*b[0],a[1]*b[1]....................)  \n",
    "a = np.arange(4).reshape(2,2)\n",
    "b = np.arange(4,8).reshape(2,2)\n",
    "print(\"a\",a)\n",
    "print(\"b\",b)\n",
    "a * b\n"
   ]
  },
  {
   "cell_type": "code",
   "execution_count": 39,
   "id": "57108a15",
   "metadata": {},
   "outputs": [
    {
     "name": "stdout",
     "output_type": "stream",
     "text": [
      "a [[0 1]\n",
      " [2 3]]\n",
      "b [[4 5]\n",
      " [6 7]]\n",
      "Mul [[ 6  7]\n",
      " [26 31]]\n",
      "[[ 6  7]\n",
      " [26 31]]\n"
     ]
    }
   ],
   "source": [
    "# matrix multiplication (Dot product)\n",
    "a = np.arange(4).reshape(2,2)\n",
    "b = np.arange(4,8).reshape(2,2)\n",
    "print(\"a\",a)\n",
    "print(\"b\",b)\n",
    "print(\"Mul\",np.matmul(a,b))\n",
    "print(np.dot(a,b))"
   ]
  },
  {
   "cell_type": "code",
   "execution_count": 40,
   "id": "1b883b3b",
   "metadata": {},
   "outputs": [
    {
     "name": "stdout",
     "output_type": "stream",
     "text": [
      "[[38]]\n",
      "[[38]]\n"
     ]
    }
   ],
   "source": [
    "# matrix multiplication\n",
    "a = np.arange(4).reshape(1,4)\n",
    "b = np.arange(4,8).reshape(4,1)\n",
    "print(np.matmul(a,b))\n",
    "print(np.dot(a,b))"
   ]
  },
  {
   "cell_type": "code",
   "execution_count": 41,
   "id": "f1e8252a",
   "metadata": {},
   "outputs": [
    {
     "name": "stdout",
     "output_type": "stream",
     "text": [
      "[[0 0]\n",
      " [4 5]]\n",
      "[[0 0]\n",
      " [4 5]]\n"
     ]
    }
   ],
   "source": [
    "# matrix multiplication\n",
    "a = np.arange(2).reshape(2,1)\n",
    "b = np.arange(4,6).reshape(1,2)\n",
    "print(np.matmul(a,b))\n",
    "print(np.dot(a,b))"
   ]
  }
 ],
 "metadata": {
  "kernelspec": {
   "display_name": "Python 3 (ipykernel)",
   "language": "python",
   "name": "python3"
  },
  "language_info": {
   "codemirror_mode": {
    "name": "ipython",
    "version": 3
   },
   "file_extension": ".py",
   "mimetype": "text/x-python",
   "name": "python",
   "nbconvert_exporter": "python",
   "pygments_lexer": "ipython3",
   "version": "3.10.5"
  }
 },
 "nbformat": 4,
 "nbformat_minor": 5
}
